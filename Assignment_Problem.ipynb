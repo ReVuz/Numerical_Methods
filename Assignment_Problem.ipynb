{
  "nbformat": 4,
  "nbformat_minor": 0,
  "metadata": {
    "colab": {
      "provenance": []
    },
    "kernelspec": {
      "name": "python3",
      "display_name": "Python 3"
    },
    "language_info": {
      "name": "python"
    }
  },
  "cells": [
    {
      "cell_type": "code",
      "execution_count": null,
      "metadata": {
        "colab": {
          "base_uri": "https://localhost:8080/"
        },
        "id": "3lnX06ptXpoO",
        "outputId": "13abcbe6-e237-43de-eca5-20491d0e6e1a"
      },
      "outputs": [
        {
          "output_type": "stream",
          "name": "stdout",
          "text": [
            "Collecting ortools\n",
            "  Downloading ortools-9.6.2534-cp310-cp310-manylinux_2_17_x86_64.manylinux2014_x86_64.whl (16.4 MB)\n",
            "\u001b[2K     \u001b[90m━━━━━━━━━━━━━━━━━━━━━━━━━━━━━━━━━━━━━━━━\u001b[0m \u001b[32m16.4/16.4 MB\u001b[0m \u001b[31m64.4 MB/s\u001b[0m eta \u001b[36m0:00:00\u001b[0m\n",
            "\u001b[?25hRequirement already satisfied: absl-py>=0.13 in /usr/local/lib/python3.10/dist-packages (from ortools) (1.4.0)\n",
            "Requirement already satisfied: numpy>=1.13.3 in /usr/local/lib/python3.10/dist-packages (from ortools) (1.22.4)\n",
            "Collecting protobuf>=4.21.12 (from ortools)\n",
            "  Downloading protobuf-4.23.3-cp37-abi3-manylinux2014_x86_64.whl (304 kB)\n",
            "\u001b[2K     \u001b[90m━━━━━━━━━━━━━━━━━━━━━━━━━━━━━━━━━━━━━━\u001b[0m \u001b[32m304.5/304.5 kB\u001b[0m \u001b[31m36.1 MB/s\u001b[0m eta \u001b[36m0:00:00\u001b[0m\n",
            "\u001b[?25hRequirement already satisfied: scipy>=1.10.0 in /usr/local/lib/python3.10/dist-packages (from ortools) (1.10.1)\n",
            "Installing collected packages: protobuf, ortools\n",
            "  Attempting uninstall: protobuf\n",
            "    Found existing installation: protobuf 3.20.3\n",
            "    Uninstalling protobuf-3.20.3:\n",
            "      Successfully uninstalled protobuf-3.20.3\n",
            "Successfully installed ortools-9.6.2534 protobuf-4.23.3\n"
          ]
        }
      ],
      "source": [
        "pip install ortools"
      ]
    },
    {
      "cell_type": "code",
      "source": [
        "# assignment problem\n",
        "\n",
        "\n",
        "\n",
        "from ortools.sat.python import cp_model\n",
        "\n",
        "\n",
        "def main():\n",
        "    # Data\n",
        "    n_rows= int(input(\"Number of rows:\"))\n",
        "\n",
        "    n_columns = int(input(\"Number of columns:\"))\n",
        "\n",
        "    #Define the matrix\n",
        "\n",
        "    costs = [ ]\n",
        "\n",
        "    print(\"Enter the entries row-wise:\")\n",
        "\n",
        "    #for user input\n",
        "\n",
        "    for i in range(n_rows):          # A for loop for row entries\n",
        "\n",
        "        a =[ ]\n",
        "\n",
        "        for j in range(n_columns):      # A for loop for column entries\n",
        "\n",
        "            a.append(int(input()))\n",
        "\n",
        "        costs.append(a)\n",
        "\n",
        "    # #To print the matrix\n",
        "\n",
        "    # for i in range(n_rows):\n",
        "\n",
        "    #     for j in range(n_cols):\n",
        "\n",
        "    #         print(matrix[i][j], end = \" \")\n",
        "\n",
        "    #     print( )\n",
        "    num_workers = len(costs)\n",
        "    num_tasks = len(costs[0])\n",
        "\n",
        "    # Model\n",
        "    model = cp_model.CpModel()\n",
        "\n",
        "    # Variables\n",
        "    x = []\n",
        "    for i in range(num_workers):\n",
        "        t = []\n",
        "        for j in range(num_tasks):\n",
        "            t.append(model.NewBoolVar(f'x[{i},{j}]'))\n",
        "        x.append(t)\n",
        "\n",
        "    # Constraints\n",
        "    # Each worker is assigned to at most one task.\n",
        "    for i in range(num_workers):\n",
        "        model.AddAtMostOne(x[i][j] for j in range(num_tasks))\n",
        "\n",
        "    # Each task is assigned to exactly one worker.\n",
        "    for j in range(num_tasks):\n",
        "        model.AddExactlyOne(x[i][j] for i in range(num_workers))\n",
        "\n",
        "    # Objective\n",
        "    objective_terms = []\n",
        "    for i in range(num_workers):\n",
        "        for j in range(num_tasks):\n",
        "            objective_terms.append(costs[i][j] * x[i][j])\n",
        "    model.Minimize(sum(objective_terms))\n",
        "\n",
        "    # Solve\n",
        "    solver = cp_model.CpSolver()\n",
        "    status = solver.Solve(model)\n",
        "\n",
        "    # Print solution.\n",
        "    if status == cp_model.OPTIMAL or status == cp_model.FEASIBLE:\n",
        "        print(f'\\nTotal cost = {solver.ObjectiveValue()}')\n",
        "        print()\n",
        "        for i in range(num_workers):\n",
        "            for j in range(num_tasks):\n",
        "                if solver.BooleanValue(x[i][j]):\n",
        "                    print(\n",
        "                        f'Worker {i} assigned to task {j} Cost = {costs[i][j]}')\n",
        "    else:\n",
        "        print('No solution found.')\n",
        "\n",
        "\n",
        "if __name__ == '__main__':\n",
        "    main()"
      ],
      "metadata": {
        "colab": {
          "base_uri": "https://localhost:8080/"
        },
        "id": "c6taIwNPXypX",
        "outputId": "b8eda911-4aee-43b0-a93e-185567a293e5"
      },
      "execution_count": null,
      "outputs": [
        {
          "output_type": "stream",
          "name": "stdout",
          "text": [
            "Number of rows:5\n",
            "Number of columns:4\n",
            "Enter the entries row-wise:\n",
            "90\n",
            "80\n",
            "75\n",
            "70\n",
            "35\n",
            "85\n",
            "65\n",
            "55\n",
            "125\n",
            "95\n",
            "90\n",
            "95\n",
            "45\n",
            "110\n",
            "95\n",
            "115\n",
            "50\n",
            "100\n",
            "90\n",
            "100\n",
            "Total cost = 270.0\n",
            "\n",
            "Worker 0 assigned to task 1 Cost = 80\n",
            "Worker 1 assigned to task 3 Cost = 55\n",
            "Worker 2 assigned to task 2 Cost = 90\n",
            "Worker 3 assigned to task 0 Cost = 45\n"
          ]
        }
      ]
    },
    {
      "cell_type": "code",
      "source": [
        "n_rows= int(input(\"Number of rows:\"))\n",
        "\n",
        "n_columns = int(input(\"Number of columns:\"))\n",
        "\n",
        "#Define the matrix\n",
        "\n",
        "matrix = [ ]\n",
        "\n",
        "print(\"Enter the entries row-wise:\")\n",
        "\n",
        "#for user input\n",
        "\n",
        "for i in range(n_rows):          # A for loop for row entries\n",
        "\n",
        "    a =[ ]\n",
        "\n",
        "    for j in range(n_columns):      # A for loop for column entries\n",
        "\n",
        "         a.append(int(input()))\n",
        "\n",
        "    matrix.append(a)\n",
        "\n",
        "\n",
        "\n",
        "#To print the matrix\n",
        "\n",
        "for i in range(n_rows):\n",
        "\n",
        "    for j in range(n_columns):\n",
        "\n",
        "        print(matrix[i][j], end = \" \")\n",
        "\n",
        "    print( )"
      ],
      "metadata": {
        "colab": {
          "base_uri": "https://localhost:8080/"
        },
        "id": "5plCIRKLbe_B",
        "outputId": "2f8e951d-ca61-4ac1-db17-bc7c2a67e105"
      },
      "execution_count": null,
      "outputs": [
        {
          "output_type": "stream",
          "name": "stdout",
          "text": [
            "Number of rows:2\n",
            "Number of columns:3\n",
            "Enter the entries row-wise:\n",
            "1\n",
            "2\n",
            "3\n",
            "4\n",
            "5\n",
            "6\n",
            "1 2 3 \n",
            "4 5 6 \n"
          ]
        }
      ]
    }
  ]
}